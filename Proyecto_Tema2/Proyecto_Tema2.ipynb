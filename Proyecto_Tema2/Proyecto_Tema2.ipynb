{
 "cells": [
  {
   "cell_type": "code",
   "execution_count": null,
   "id": "1588ca4e",
   "metadata": {
    "vscode": {
     "languageId": "markdown"
    }
   },
   "outputs": [],
   "source": [
    "# Nombre del Proyecto\n",
    "\n",
    "**Autores:**  \n",
    "- Autor 1  \n",
    "- Autor 2  \n",
    "- Autor 3  "
   ]
  }
 ],
 "metadata": {
  "language_info": {
   "name": "python"
  }
 },
 "nbformat": 4,
 "nbformat_minor": 5
}
