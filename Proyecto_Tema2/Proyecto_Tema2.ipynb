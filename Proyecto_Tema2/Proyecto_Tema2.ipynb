{
  "cells": [
    {
      "cell_type": "markdown",
      "source": [
        "# Fase 1 — Árbol de Decisión (XAI · Unidad 2)\n",
        "\n",
        "**Autores:** Jordi Florit Ensenyat · Josep Gabriel Fornes Reynes · Juan Esteban Rincón Marín  \n",
        "**Asignatura:** Inteligencia Artificial Explicable — Hands-on Project (U2)  \n",
        "**Fecha:** _AAAA-MM-DD_"
      ],
      "metadata": {
        "id": "kvZM_nA6obnH"
      },
      "id": "kvZM_nA6obnH"
    }
  ],
  "metadata": {
    "language_info": {
      "name": "python"
    },
    "colab": {
      "provenance": []
    },
    "kernelspec": {
      "name": "python3",
      "display_name": "Python 3"
    }
  },
  "nbformat": 4,
  "nbformat_minor": 5
}